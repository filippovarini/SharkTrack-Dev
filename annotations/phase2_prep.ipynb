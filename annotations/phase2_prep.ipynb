{
 "cells": [
  {
   "cell_type": "markdown",
   "metadata": {},
   "source": [
    "### Add frame_id column to annotations"
   ]
  },
  {
   "cell_type": "code",
   "execution_count": 14,
   "metadata": {},
   "outputs": [],
   "source": [
    "import pandas as pd\n",
    "import os\n",
    "\n",
    "phase2_dir = '/vol/biomedic3/bglocker/ugproj2324/fv220/datasets/phase2'\n",
    "\n",
    "for folder in os.listdir(phase2_dir):\n",
    "  if folder not in ['gfp_rand11', 'gfp_rand10']:\n",
    "    annotation = os.path.join(phase2_dir, folder, 'annotations.csv')\n",
    "    annotation_df = pd.read_csv(annotation)\n",
    "\n",
    "\n",
    "    # Read the annotation file and add a frame_id column which is equal to the number part of the Filename column divided by 30, such as gfp_mozambique1_frame180 should be 6\n",
    "    annotation_df['frame_id'] = annotation_df['Filename'].apply(lambda x: int(x.split('_')[-1].replace('.jpg', '').split('frame')[-1]) / 30)\n",
    "    # convert frame_id to int\n",
    "    annotation_df['frame_id'] = annotation_df['frame_id'].astype(int)\n",
    "    # save \n",
    "    annotation_df.to_csv(annotation, index=False)"
   ]
  },
  {
   "cell_type": "code",
   "execution_count": null,
   "metadata": {},
   "outputs": [],
   "source": []
  }
 ],
 "metadata": {
  "kernelspec": {
   "display_name": "default_ml_pytorch",
   "language": "python",
   "name": "python3"
  },
  "language_info": {
   "codemirror_mode": {
    "name": "ipython",
    "version": 3
   },
   "file_extension": ".py",
   "mimetype": "text/x-python",
   "name": "python",
   "nbconvert_exporter": "python",
   "pygments_lexer": "ipython3",
   "version": "3.10.12"
  }
 },
 "nbformat": 4,
 "nbformat_minor": 2
}
